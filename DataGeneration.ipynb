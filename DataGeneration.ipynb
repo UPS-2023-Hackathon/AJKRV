{
  "nbformat": 4,
  "nbformat_minor": 0,
  "metadata": {
    "colab": {
      "provenance": []
    },
    "kernelspec": {
      "name": "python3",
      "display_name": "Python 3"
    },
    "language_info": {
      "name": "python"
    }
  },
  "cells": [
    {
      "cell_type": "code",
      "source": [
        "import csv\n",
        "import random\n",
        "from datetime import datetime, timedelta\n",
        "\n",
        "def generate_tracking_id():\n",
        "    prefix = \"T\"\n",
        "    suffix = ''.join(str(random.randint(0, 9)) for _ in range(9))\n",
        "    return prefix + suffix\n",
        "\n",
        "def generate_inscan_time():\n",
        "    #current_time = datetime.now()\n",
        "    #six_months_ago = current_time - timedelta(days=360)\n",
        "\n",
        "    #Holiday Season\n",
        "    now_time = datetime.now()\n",
        "    current_time = now_time - timedelta(days=160)\n",
        "    six_months_ago = now_time - timedelta(days=255)\n",
        "    return random_date(six_months_ago, current_time)\n",
        "\n",
        "def random_date(start, end):\n",
        "    return start + timedelta(\n",
        "        seconds=random.randint(0, int((end - start).total_seconds()))\n",
        "    )\n",
        "def generate_tracking_ids(num_ids):\n",
        "    tracking_ids = []\n",
        "    with open('ga_zips.csv', 'r') as csvfile:\n",
        "        reader = csv.DictReader(csvfile)\n",
        "        rows = list(reader)\n",
        "        for _ in range(num_ids):\n",
        "            tracking_id = generate_tracking_id()\n",
        "            row = random.choice(rows)\n",
        "            county = row['County']\n",
        "            zip_code = row['Zip']\n",
        "            WareHouseId = row['WarehouseID']\n",
        "            damaged = random.choice(['Yes', 'Yes', 'No'])  # 25% Yes, 75% No\n",
        "            inscan_time = generate_inscan_time()\n",
        "            tracking_ids.append((tracking_id, county, zip_code, damaged, inscan_time,WareHouseId))\n",
        "    return tracking_ids\n",
        "\n",
        "def save_tracking_ids_to_csv(tracking_ids, filename):\n",
        "    with open(filename, 'w', newline='') as csvfile:\n",
        "        writer = csv.writer(csvfile)\n",
        "        writer.writerow(['TrackingID', 'County', 'ZipCode', 'Damaged','InScanTime','WarehouseID'])\n",
        "        for tracking_id, county, zip_code, damaged, inscan_time,WarehouseId in tracking_ids:\n",
        "            writer.writerow([tracking_id, county, zip_code, damaged, inscan_time.strftime(\"%Y-%m-%d %H:%M:%S\"), WarehouseId])\n",
        "\n",
        "# Generate 10 random tracking IDs with county, zip code, and damaged status\n",
        "num_ids = 200000\n",
        "tracking_ids = generate_tracking_ids(num_ids)\n",
        "\n",
        "# Save tracking IDs to a CSV file\n",
        "filename = 'tracking_ids2.csv'\n",
        "save_tracking_ids_to_csv(tracking_ids, filename)\n",
        "\n",
        "print(f'{num_ids} tracking IDs generated with county, zip code, and damaged status, and saved to {filename}.')\n"
      ],
      "metadata": {
        "colab": {
          "base_uri": "https://localhost:8080/"
        },
        "id": "DMgciV-cDT9a",
        "outputId": "32805e31-190d-455d-ad26-2488d991ae40"
      },
      "execution_count": 8,
      "outputs": [
        {
          "output_type": "stream",
          "name": "stdout",
          "text": [
            "200000 tracking IDs generated with county, zip code, and damaged status, and saved to tracking_ids2.csv.\n"
          ]
        }
      ]
    }
  ]
}